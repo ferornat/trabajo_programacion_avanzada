{
 "cells": [
  {
   "cell_type": "code",
   "execution_count": 1,
   "id": "bb44832a-4718-4aa5-ab0d-c7c54dbbd164",
   "metadata": {
    "tags": []
   },
   "outputs": [],
   "source": [
    "# Cargamos librerías a utilizar\n",
    "import datetime\n",
    "from datetime import timedelta\n",
    "import numpy as np\n",
    "import pandas as pd\n",
    "import boto3\n",
    "\n",
    "# Seteamos las claves\n",
    "import config\n",
    "MY_API_KEY = config.MY_API_KEY\n",
    "MY_SECRET_KEY = config.MY_SECRET_KEY"
   ]
  },
  {
   "cell_type": "code",
   "execution_count": 2,
   "id": "643289ad-e8b1-4e8b-a136-f8770ddc554b",
   "metadata": {
    "tags": []
   },
   "outputs": [],
   "source": [
    "# Generamos el cliente. Opción con credenciales\n",
    "s3 = boto3.client('s3', aws_access_key_id = MY_API_KEY, \n",
    "                        aws_secret_access_key = MY_SECRET_KEY,\n",
    "                        region_name = 'us-east-1')"
   ]
  },
  {
   "cell_type": "code",
   "execution_count": 4,
   "id": "d4ac184f-8de1-4d8a-8252-62f8c10f9b75",
   "metadata": {
    "tags": []
   },
   "outputs": [],
   "source": [
    "# Obtenemos la información\n",
    "obj = s3.get_object(Bucket = 'bases-fer2', Key = 'ads_views')\n",
    "df = pd.read_csv(obj['Body'])"
   ]
  },
  {
   "cell_type": "code",
   "execution_count": 9,
   "id": "18c2f493-515a-4a78-82da-ecde49ab5987",
   "metadata": {
    "tags": []
   },
   "outputs": [
    {
     "data": {
      "text/html": [
       "<div>\n",
       "<style scoped>\n",
       "    .dataframe tbody tr th:only-of-type {\n",
       "        vertical-align: middle;\n",
       "    }\n",
       "\n",
       "    .dataframe tbody tr th {\n",
       "        vertical-align: top;\n",
       "    }\n",
       "\n",
       "    .dataframe thead th {\n",
       "        text-align: right;\n",
       "    }\n",
       "</style>\n",
       "<table border=\"1\" class=\"dataframe\">\n",
       "  <thead>\n",
       "    <tr style=\"text-align: right;\">\n",
       "      <th></th>\n",
       "      <th>advertiser_id</th>\n",
       "      <th>product_id</th>\n",
       "      <th>type</th>\n",
       "      <th>date</th>\n",
       "    </tr>\n",
       "  </thead>\n",
       "  <tbody>\n",
       "    <tr>\n",
       "      <th>99995</th>\n",
       "      <td>8C88YB6E8YCGWU07HA7A</td>\n",
       "      <td>w2c5hd</td>\n",
       "      <td>impression</td>\n",
       "      <td>2023-05-30</td>\n",
       "    </tr>\n",
       "    <tr>\n",
       "      <th>99996</th>\n",
       "      <td>KD9PHCBGYFBRI9ET1O9R</td>\n",
       "      <td>d3ex6m</td>\n",
       "      <td>impression</td>\n",
       "      <td>2023-05-30</td>\n",
       "    </tr>\n",
       "    <tr>\n",
       "      <th>99997</th>\n",
       "      <td>OY5LNPB5A8FF43ITRZG3</td>\n",
       "      <td>trgwnt</td>\n",
       "      <td>impression</td>\n",
       "      <td>2023-05-30</td>\n",
       "    </tr>\n",
       "    <tr>\n",
       "      <th>99998</th>\n",
       "      <td>03KNVBO915KY2ZPGA57J</td>\n",
       "      <td>ju3ix9</td>\n",
       "      <td>impression</td>\n",
       "      <td>2023-05-30</td>\n",
       "    </tr>\n",
       "    <tr>\n",
       "      <th>99999</th>\n",
       "      <td>1OW4LWJSBJK6E1D9FDH7</td>\n",
       "      <td>8xko0x</td>\n",
       "      <td>impression</td>\n",
       "      <td>2023-05-30</td>\n",
       "    </tr>\n",
       "  </tbody>\n",
       "</table>\n",
       "</div>"
      ],
      "text/plain": [
       "              advertiser_id product_id        type        date\n",
       "99995  8C88YB6E8YCGWU07HA7A     w2c5hd  impression  2023-05-30\n",
       "99996  KD9PHCBGYFBRI9ET1O9R     d3ex6m  impression  2023-05-30\n",
       "99997  OY5LNPB5A8FF43ITRZG3     trgwnt  impression  2023-05-30\n",
       "99998  03KNVBO915KY2ZPGA57J     ju3ix9  impression  2023-05-30\n",
       "99999  1OW4LWJSBJK6E1D9FDH7     8xko0x  impression  2023-05-30"
      ]
     },
     "execution_count": 9,
     "metadata": {},
     "output_type": "execute_result"
    }
   ],
   "source": [
    "df.tail()"
   ]
  },
  {
   "cell_type": "code",
   "execution_count": 6,
   "id": "9001f5e5-1c12-402c-b48a-5f1b43419c74",
   "metadata": {
    "tags": []
   },
   "outputs": [],
   "source": [
    "# Obtenemos la información\n",
    "obj2 = s3.get_object(Bucket = 'bases-fer2', Key = 'product_views')\n",
    "df2 = pd.read_csv(obj2['Body'])"
   ]
  },
  {
   "cell_type": "code",
   "execution_count": 8,
   "id": "b88fa76b-9cee-48f5-a69a-4f1490aa2d8b",
   "metadata": {
    "tags": []
   },
   "outputs": [
    {
     "data": {
      "text/html": [
       "<div>\n",
       "<style scoped>\n",
       "    .dataframe tbody tr th:only-of-type {\n",
       "        vertical-align: middle;\n",
       "    }\n",
       "\n",
       "    .dataframe tbody tr th {\n",
       "        vertical-align: top;\n",
       "    }\n",
       "\n",
       "    .dataframe thead th {\n",
       "        text-align: right;\n",
       "    }\n",
       "</style>\n",
       "<table border=\"1\" class=\"dataframe\">\n",
       "  <thead>\n",
       "    <tr style=\"text-align: right;\">\n",
       "      <th></th>\n",
       "      <th>advertiser_id</th>\n",
       "      <th>product_id</th>\n",
       "      <th>date</th>\n",
       "    </tr>\n",
       "  </thead>\n",
       "  <tbody>\n",
       "    <tr>\n",
       "      <th>99995</th>\n",
       "      <td>5E325T5HYL61QSABVR5V</td>\n",
       "      <td>ef53ef</td>\n",
       "      <td>2023-05-30</td>\n",
       "    </tr>\n",
       "    <tr>\n",
       "      <th>99996</th>\n",
       "      <td>KD9PHCBGYFBRI9ET1O9R</td>\n",
       "      <td>847h5q</td>\n",
       "      <td>2023-05-30</td>\n",
       "    </tr>\n",
       "    <tr>\n",
       "      <th>99997</th>\n",
       "      <td>Y0W3K7OV6ZLILW96OO3K</td>\n",
       "      <td>qnrclp</td>\n",
       "      <td>2023-05-30</td>\n",
       "    </tr>\n",
       "    <tr>\n",
       "      <th>99998</th>\n",
       "      <td>03KNVBO915KY2ZPGA57J</td>\n",
       "      <td>g4d7hb</td>\n",
       "      <td>2023-05-30</td>\n",
       "    </tr>\n",
       "    <tr>\n",
       "      <th>99999</th>\n",
       "      <td>M0LU6DCI1WILGQBZ6808</td>\n",
       "      <td>npiwus</td>\n",
       "      <td>2023-05-30</td>\n",
       "    </tr>\n",
       "  </tbody>\n",
       "</table>\n",
       "</div>"
      ],
      "text/plain": [
       "              advertiser_id product_id        date\n",
       "99995  5E325T5HYL61QSABVR5V     ef53ef  2023-05-30\n",
       "99996  KD9PHCBGYFBRI9ET1O9R     847h5q  2023-05-30\n",
       "99997  Y0W3K7OV6ZLILW96OO3K     qnrclp  2023-05-30\n",
       "99998  03KNVBO915KY2ZPGA57J     g4d7hb  2023-05-30\n",
       "99999  M0LU6DCI1WILGQBZ6808     npiwus  2023-05-30"
      ]
     },
     "execution_count": 8,
     "metadata": {},
     "output_type": "execute_result"
    }
   ],
   "source": [
    "df2.tail()"
   ]
  }
 ],
 "metadata": {
  "kernelspec": {
   "display_name": "Python 3 (ipykernel)",
   "language": "python",
   "name": "python3"
  },
  "language_info": {
   "codemirror_mode": {
    "name": "ipython",
    "version": 3
   },
   "file_extension": ".py",
   "mimetype": "text/x-python",
   "name": "python",
   "nbconvert_exporter": "python",
   "pygments_lexer": "ipython3",
   "version": "3.10.6"
  }
 },
 "nbformat": 4,
 "nbformat_minor": 5
}
